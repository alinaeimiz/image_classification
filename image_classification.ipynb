{
 "cells": [
  {
   "cell_type": "markdown",
   "id": "660901e8-53d8-4579-b0f2-9d8071bcdba4",
   "metadata": {},
   "source": [
    "# image classification "
   ]
  },
  {
   "cell_type": "code",
   "execution_count": 42,
   "id": "18c57dc4-4222-4d99-87cb-e20649d6845d",
   "metadata": {},
   "outputs": [],
   "source": [
    "import numpy as np \n",
    "from matplotlib import pyplot as plt\n",
    "import tensorflow as tf\n",
    "from tensorflow import keras as tf"
   ]
  },
  {
   "cell_type": "markdown",
   "id": "7de439ee-abea-407c-80bf-51e7fdd6b951",
   "metadata": {},
   "source": [
    "## load data"
   ]
  },
  {
   "cell_type": "code",
   "execution_count": 50,
   "id": "91ccbe7d-e638-43e9-b1f7-f1a874ace4cb",
   "metadata": {},
   "outputs": [],
   "source": [
    "data = keras.datasets.fashion_mnist"
   ]
  },
  {
   "cell_type": "code",
   "execution_count": 51,
   "id": "0e1b6b00-69f4-4815-b0b7-902a9a30b86c",
   "metadata": {},
   "outputs": [],
   "source": [
    "(X_train, y_train), (X_test, y_test) = data.load_data()"
   ]
  },
  {
   "cell_type": "code",
   "execution_count": 52,
   "id": "7631863b-e232-4d83-a60c-e38829936b10",
   "metadata": {},
   "outputs": [
    {
     "data": {
      "text/plain": [
       "<matplotlib.image.AxesImage at 0x30c851250>"
      ]
     },
     "execution_count": 52,
     "metadata": {},
     "output_type": "execute_result"
    },
    {
     "data": {
      "image/png": "[encoded data removed]",
      "text/plain": [
       "<Figure size 640x480 with 1 Axes>"
      ]
     },
     "metadata": {},
     "output_type": "display_data"
    }
   ],
   "source": [
    "plt.imshow(X_train[1], cmap='gray')"
   ]
  },
  {
   "cell_type": "code",
   "execution_count": 53,
   "id": "baab4821-60c5-4376-9577-9198994b1920",
   "metadata": {},
   "outputs": [
    {
     "data": {
      "text/plain": [
       "(28, 28)"
      ]
     },
     "execution_count": 53,
     "metadata": {},
     "output_type": "execute_result"
    }
   ],
   "source": [
    "X_train.shape[1:]"
   ]
  },
  {
   "cell_type": "markdown",
   "id": "172938eb-22bb-4e46-8ec6-41b229bea809",
   "metadata": {},
   "source": [
    "## normalizing data"
   ]
  },
  {
   "cell_type": "code",
   "execution_count": 54,
   "id": "60931660-79f2-4a8d-b9f7-cc0293ccd57f",
   "metadata": {},
   "outputs": [],
   "source": [
    "X_train, X_test = X_train/255, X_test/255"
   ]
  },
  {
   "cell_type": "markdown",
   "id": "1291321d-5aac-403f-8b7d-b2a0e6fbf05a",
   "metadata": {},
   "source": [
    "## neural model"
   ]
  },
  {
   "cell_type": "code",
   "execution_count": 55,
   "id": "551363aa-8860-4df8-b5f4-c0a007e0d3f8",
   "metadata": {},
   "outputs": [
    {
     "name": "stderr",
     "output_type": "stream",
     "text": [
      "/opt/homebrew/lib/python3.12/site-packages/keras/src/layers/reshaping/flatten.py:37: UserWarning: Do not pass an `input_shape`/`input_dim` argument to a layer. When using Sequential models, prefer using an `Input(shape)` object as the first layer in the model instead.\n",
      "  super().__init__(**kwargs)\n"
     ]
    }
   ],
   "source": [
    "model = keras.models.Sequential([\n",
    "    keras.layers.Flatten(input_shape=[28,28]),\n",
    "    keras.layers.Dense(100, activation='relu'),\n",
    "    keras.layers.Dense(50, activation='relu'),\n",
    "    keras.layers.Dense(10, activation='softmax')\n",
    "])"
   ]
  },
  {
   "cell_type": "code",
   "execution_count": 56,
   "id": "122c6378-ff0e-45dd-8529-53bf4f0e65ba",
   "metadata": {},
   "outputs": [],
   "source": [
    "model.compile(loss=\"sparse_categorical_crossentropy\",\n",
    "              optimizer=\"sgd\",\n",
    "              metrics=[\"accuracy\"])"
   ]
  },
  {
   "cell_type": "code",
   "execution_count": 57,
   "id": "cde94292-ad2b-4fa5-ade9-de5858dd0d11",
   "metadata": {},
   "outputs": [
    {
     "name": "stdout",
     "output_type": "stream",
     "text": [
      "Epoch 1/30\n",
      "\u001b[1m1594/1594\u001b[0m \u001b[32m━━━━━━━━━━━━━━━━━━━━\u001b[0m\u001b[37m\u001b[0m \u001b[1m1s\u001b[0m 548us/step - accuracy: 0.6353 - loss: 1.1322 - val_accuracy: 0.8046 - val_loss: 0.5585\n",
      "Epoch 2/30\n",
      "\u001b[1m1594/1594\u001b[0m \u001b[32m━━━━━━━━━━━━━━━━━━━━\u001b[0m\u001b[37m\u001b[0m \u001b[1m1s\u001b[0m 512us/step - accuracy: 0.8146 - loss: 0.5386 - val_accuracy: 0.8250 - val_loss: 0.4902\n",
      "Epoch 3/30\n",
      "\u001b[1m1594/1594\u001b[0m \u001b[32m━━━━━━━━━━━━━━━━━━━━\u001b[0m\u001b[37m\u001b[0m \u001b[1m1s\u001b[0m 504us/step - accuracy: 0.8365 - loss: 0.4752 - val_accuracy: 0.8413 - val_loss: 0.4541\n",
      "Epoch 4/30\n",
      "\u001b[1m1594/1594\u001b[0m \u001b[32m━━━━━━━━━━━━━━━━━━━━\u001b[0m\u001b[37m\u001b[0m \u001b[1m1s\u001b[0m 505us/step - accuracy: 0.8472 - loss: 0.4433 - val_accuracy: 0.8276 - val_loss: 0.4807\n",
      "Epoch 5/30\n",
      "\u001b[1m1594/1594\u001b[0m \u001b[32m━━━━━━━━━━━━━━━━━━━━\u001b[0m\u001b[37m\u001b[0m \u001b[1m1s\u001b[0m 540us/step - accuracy: 0.8509 - loss: 0.4253 - val_accuracy: 0.8411 - val_loss: 0.4422\n",
      "Epoch 6/30\n",
      "\u001b[1m1594/1594\u001b[0m \u001b[32m━━━━━━━━━━━━━━━━━━━━\u001b[0m\u001b[37m\u001b[0m \u001b[1m1s\u001b[0m 495us/step - accuracy: 0.8563 - loss: 0.4103 - val_accuracy: 0.8542 - val_loss: 0.4140\n",
      "Epoch 7/30\n",
      "\u001b[1m1594/1594\u001b[0m \u001b[32m━━━━━━━━━━━━━━━━━━━━\u001b[0m\u001b[37m\u001b[0m \u001b[1m1s\u001b[0m 506us/step - accuracy: 0.8638 - loss: 0.3917 - val_accuracy: 0.8600 - val_loss: 0.3958\n",
      "Epoch 8/30\n",
      "\u001b[1m1594/1594\u001b[0m \u001b[32m━━━━━━━━━━━━━━━━━━━━\u001b[0m\u001b[37m\u001b[0m \u001b[1m1s\u001b[0m 486us/step - accuracy: 0.8655 - loss: 0.3792 - val_accuracy: 0.8592 - val_loss: 0.4033\n",
      "Epoch 9/30\n",
      "\u001b[1m1594/1594\u001b[0m \u001b[32m━━━━━━━━━━━━━━━━━━━━\u001b[0m\u001b[37m\u001b[0m \u001b[1m1s\u001b[0m 529us/step - accuracy: 0.8698 - loss: 0.3676 - val_accuracy: 0.8657 - val_loss: 0.3825\n",
      "Epoch 10/30\n",
      "\u001b[1m1594/1594\u001b[0m \u001b[32m━━━━━━━━━━━━━━━━━━━━\u001b[0m\u001b[37m\u001b[0m \u001b[1m1s\u001b[0m 518us/step - accuracy: 0.8748 - loss: 0.3507 - val_accuracy: 0.8598 - val_loss: 0.3969\n",
      "Epoch 11/30\n",
      "\u001b[1m1594/1594\u001b[0m \u001b[32m━━━━━━━━━━━━━━━━━━━━\u001b[0m\u001b[37m\u001b[0m \u001b[1m1s\u001b[0m 500us/step - accuracy: 0.8760 - loss: 0.3477 - val_accuracy: 0.8641 - val_loss: 0.3808\n",
      "Epoch 12/30\n",
      "\u001b[1m1594/1594\u001b[0m \u001b[32m━━━━━━━━━━━━━━━━━━━━\u001b[0m\u001b[37m\u001b[0m \u001b[1m1s\u001b[0m 545us/step - accuracy: 0.8793 - loss: 0.3369 - val_accuracy: 0.8656 - val_loss: 0.3804\n",
      "Epoch 13/30\n",
      "\u001b[1m1594/1594\u001b[0m \u001b[32m━━━━━━━━━━━━━━━━━━━━\u001b[0m\u001b[37m\u001b[0m \u001b[1m1s\u001b[0m 507us/step - accuracy: 0.8816 - loss: 0.3313 - val_accuracy: 0.8614 - val_loss: 0.3898\n",
      "Epoch 14/30\n",
      "\u001b[1m1594/1594\u001b[0m \u001b[32m━━━━━━━━━━━━━━━━━━━━\u001b[0m\u001b[37m\u001b[0m \u001b[1m1s\u001b[0m 498us/step - accuracy: 0.8814 - loss: 0.3240 - val_accuracy: 0.8701 - val_loss: 0.3605\n",
      "Epoch 15/30\n",
      "\u001b[1m1594/1594\u001b[0m \u001b[32m━━━━━━━━━━━━━━━━━━━━\u001b[0m\u001b[37m\u001b[0m \u001b[1m1s\u001b[0m 518us/step - accuracy: 0.8865 - loss: 0.3151 - val_accuracy: 0.8731 - val_loss: 0.3538\n",
      "Epoch 16/30\n",
      "\u001b[1m1594/1594\u001b[0m \u001b[32m━━━━━━━━━━━━━━━━━━━━\u001b[0m\u001b[37m\u001b[0m \u001b[1m1s\u001b[0m 522us/step - accuracy: 0.8870 - loss: 0.3143 - val_accuracy: 0.8706 - val_loss: 0.3621\n",
      "Epoch 17/30\n",
      "\u001b[1m1594/1594\u001b[0m \u001b[32m━━━━━━━━━━━━━━━━━━━━\u001b[0m\u001b[37m\u001b[0m \u001b[1m1s\u001b[0m 513us/step - accuracy: 0.8895 - loss: 0.3066 - val_accuracy: 0.8723 - val_loss: 0.3508\n",
      "Epoch 18/30\n",
      "\u001b[1m1594/1594\u001b[0m \u001b[32m━━━━━━━━━━━━━━━━━━━━\u001b[0m\u001b[37m\u001b[0m \u001b[1m1s\u001b[0m 543us/step - accuracy: 0.8904 - loss: 0.3065 - val_accuracy: 0.8728 - val_loss: 0.3548\n",
      "Epoch 19/30\n",
      "\u001b[1m1594/1594\u001b[0m \u001b[32m━━━━━━━━━━━━━━━━━━━━\u001b[0m\u001b[37m\u001b[0m \u001b[1m1s\u001b[0m 517us/step - accuracy: 0.8913 - loss: 0.2980 - val_accuracy: 0.8740 - val_loss: 0.3495\n",
      "Epoch 20/30\n",
      "\u001b[1m1594/1594\u001b[0m \u001b[32m━━━━━━━━━━━━━━━━━━━━\u001b[0m\u001b[37m\u001b[0m \u001b[1m1s\u001b[0m 518us/step - accuracy: 0.8939 - loss: 0.2919 - val_accuracy: 0.8679 - val_loss: 0.3682\n",
      "Epoch 21/30\n",
      "\u001b[1m1594/1594\u001b[0m \u001b[32m━━━━━━━━━━━━━━━━━━━━\u001b[0m\u001b[37m\u001b[0m \u001b[1m1s\u001b[0m 510us/step - accuracy: 0.8962 - loss: 0.2896 - val_accuracy: 0.8658 - val_loss: 0.3661\n",
      "Epoch 22/30\n",
      "\u001b[1m1594/1594\u001b[0m \u001b[32m━━━━━━━━━━━━━━━━━━━━\u001b[0m\u001b[37m\u001b[0m \u001b[1m1s\u001b[0m 522us/step - accuracy: 0.9002 - loss: 0.2769 - val_accuracy: 0.8782 - val_loss: 0.3403\n",
      "Epoch 23/30\n",
      "\u001b[1m1594/1594\u001b[0m \u001b[32m━━━━━━━━━━━━━━━━━━━━\u001b[0m\u001b[37m\u001b[0m \u001b[1m1s\u001b[0m 516us/step - accuracy: 0.8967 - loss: 0.2834 - val_accuracy: 0.8754 - val_loss: 0.3516\n",
      "Epoch 24/30\n",
      "\u001b[1m1594/1594\u001b[0m \u001b[32m━━━━━━━━━━━━━━━━━━━━\u001b[0m\u001b[37m\u001b[0m \u001b[1m1s\u001b[0m 550us/step - accuracy: 0.8988 - loss: 0.2725 - val_accuracy: 0.8819 - val_loss: 0.3347\n",
      "Epoch 25/30\n",
      "\u001b[1m1594/1594\u001b[0m \u001b[32m━━━━━━━━━━━━━━━━━━━━\u001b[0m\u001b[37m\u001b[0m \u001b[1m1s\u001b[0m 515us/step - accuracy: 0.9013 - loss: 0.2707 - val_accuracy: 0.8812 - val_loss: 0.3361\n",
      "Epoch 26/30\n",
      "\u001b[1m1594/1594\u001b[0m \u001b[32m━━━━━━━━━━━━━━━━━━━━\u001b[0m\u001b[37m\u001b[0m \u001b[1m1s\u001b[0m 512us/step - accuracy: 0.9006 - loss: 0.2710 - val_accuracy: 0.8779 - val_loss: 0.3455\n",
      "Epoch 27/30\n",
      "\u001b[1m1594/1594\u001b[0m \u001b[32m━━━━━━━━━━━━━━━━━━━━\u001b[0m\u001b[37m\u001b[0m \u001b[1m1s\u001b[0m 505us/step - accuracy: 0.9034 - loss: 0.2645 - val_accuracy: 0.8780 - val_loss: 0.3448\n",
      "Epoch 28/30\n",
      "\u001b[1m1594/1594\u001b[0m \u001b[32m━━━━━━━━━━━━━━━━━━━━\u001b[0m\u001b[37m\u001b[0m \u001b[1m1s\u001b[0m 504us/step - accuracy: 0.9057 - loss: 0.2592 - val_accuracy: 0.8801 - val_loss: 0.3424\n",
      "Epoch 29/30\n",
      "\u001b[1m1594/1594\u001b[0m \u001b[32m━━━━━━━━━━━━━━━━━━━━\u001b[0m\u001b[37m\u001b[0m \u001b[1m1s\u001b[0m 517us/step - accuracy: 0.9041 - loss: 0.2581 - val_accuracy: 0.8793 - val_loss: 0.3382\n",
      "Epoch 30/30\n",
      "\u001b[1m1594/1594\u001b[0m \u001b[32m━━━━━━━━━━━━━━━━━━━━\u001b[0m\u001b[37m\u001b[0m \u001b[1m1s\u001b[0m 543us/step - accuracy: 0.9074 - loss: 0.2557 - val_accuracy: 0.8824 - val_loss: 0.3351\n"
     ]
    }
   ],
   "source": [
    "history = model.fit(X_train, y_train, epochs=30, validation_split=.15)"
   ]
  },
  {
   "cell_type": "markdown",
   "id": "d2cc2e13-0123-4725-bb34-96e90a0ffdf1",
   "metadata": {},
   "source": [
    "## evaluation model loss"
   ]
  },
  {
   "cell_type": "code",
   "execution_count": 58,
   "id": "4db353f5-1f4a-43e3-9bef-46cfadca4c07",
   "metadata": {},
   "outputs": [
    {
     "data": {
      "text/plain": [
       "[0.3548300862312317, 0.8712000250816345]"
      ]
     },
     "execution_count": 58,
     "metadata": {},
     "output_type": "execute_result"
    }
   ],
   "source": [
    "model.evaluate(X_test, y_test, verbose=0)"
   ]
  },
  {
   "cell_type": "markdown",
   "id": "7bf5790c-162a-4df1-8c19-c9b008616bce",
   "metadata": {},
   "source": [
    "## plot loss model "
   ]
  },
  {
   "cell_type": "code",
   "execution_count": 59,
   "id": "0ff318a8-c923-4d0e-a0ac-aefdd42616b3",
   "metadata": {},
   "outputs": [
    {
     "data": {
      "text/plain": [
       "[<matplotlib.lines.Line2D at 0x30ccb5ee0>]"
      ]
     },
     "execution_count": 59,
     "metadata": {},
     "output_type": "execute_result"
    },
    {
     "data": {
      "image/png": "[encoded data removed]",
      "text/plain": [
       "<Figure size 1200x500 with 1 Axes>"
      ]
     },
     "metadata": {},
     "output_type": "display_data"
    }
   ],
   "source": [
    "fig, ax = plt.subplots(figsize=(12, 5))\n",
    "ax.plot(history.history['loss'])\n",
    "ax.plot(history.history['val_loss'])\n",
    "ax.plot(history.history['accuracy'])\n",
    "ax.plot(history.history['val_accuracy'])"
   ]
  },
  {
   "cell_type": "code",
   "execution_count": null,
   "id": "d02fbfaa-bd1a-4653-8e21-a11826c59709",
   "metadata": {},
   "outputs": [],
   "source": []
  }
 ],
 "metadata": {
  "kernelspec": {
   "display_name": "Python 3 (ipykernel)",
   "language": "python",
   "name": "python3"
  },
  "language_info": {
   "codemirror_mode": {
    "name": "ipython",
    "version": 3
   },
   "file_extension": ".py",
   "mimetype": "text/x-python",
   "name": "python",
   "nbconvert_exporter": "python",
   "pygments_lexer": "ipython3",
   "version": "3.12.6"
  }
 },
 "nbformat": 4,
 "nbformat_minor": 5
}
